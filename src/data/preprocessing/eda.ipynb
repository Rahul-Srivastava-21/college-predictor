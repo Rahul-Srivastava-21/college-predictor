{
 "cells": [
  {
   "cell_type": "code",
   "execution_count": 2,
   "id": "0a0d8ac7",
   "metadata": {},
   "outputs": [
    {
     "name": "stdout",
     "output_type": "stream",
     "text": [
      "Requirement already satisfied: matplotlib in d:\\courses\\global academy of technology\\kcet-college-pred\\kcet_env\\lib\\site-packages (3.10.6)\n",
      "Requirement already satisfied: seaborn in d:\\courses\\global academy of technology\\kcet-college-pred\\kcet_env\\lib\\site-packages (0.13.2)\n",
      "Requirement already satisfied: contourpy>=1.0.1 in d:\\courses\\global academy of technology\\kcet-college-pred\\kcet_env\\lib\\site-packages (from matplotlib) (1.3.3)\n",
      "Requirement already satisfied: cycler>=0.10 in d:\\courses\\global academy of technology\\kcet-college-pred\\kcet_env\\lib\\site-packages (from matplotlib) (0.12.1)\n",
      "Requirement already satisfied: fonttools>=4.22.0 in d:\\courses\\global academy of technology\\kcet-college-pred\\kcet_env\\lib\\site-packages (from matplotlib) (4.59.2)\n",
      "Requirement already satisfied: kiwisolver>=1.3.1 in d:\\courses\\global academy of technology\\kcet-college-pred\\kcet_env\\lib\\site-packages (from matplotlib) (1.4.9)\n",
      "Requirement already satisfied: numpy>=1.23 in d:\\courses\\global academy of technology\\kcet-college-pred\\kcet_env\\lib\\site-packages (from matplotlib) (2.2.6)\n",
      "Requirement already satisfied: packaging>=20.0 in d:\\courses\\global academy of technology\\kcet-college-pred\\kcet_env\\lib\\site-packages (from matplotlib) (25.0)\n",
      "Requirement already satisfied: pillow>=8 in d:\\courses\\global academy of technology\\kcet-college-pred\\kcet_env\\lib\\site-packages (from matplotlib) (11.3.0)\n",
      "Requirement already satisfied: pyparsing>=2.3.1 in d:\\courses\\global academy of technology\\kcet-college-pred\\kcet_env\\lib\\site-packages (from matplotlib) (3.2.3)\n",
      "Requirement already satisfied: python-dateutil>=2.7 in d:\\courses\\global academy of technology\\kcet-college-pred\\kcet_env\\lib\\site-packages (from matplotlib) (2.9.0.post0)\n",
      "Requirement already satisfied: pandas>=1.2 in d:\\courses\\global academy of technology\\kcet-college-pred\\kcet_env\\lib\\site-packages (from seaborn) (2.3.2)\n",
      "Requirement already satisfied: pytz>=2020.1 in d:\\courses\\global academy of technology\\kcet-college-pred\\kcet_env\\lib\\site-packages (from pandas>=1.2->seaborn) (2025.2)\n",
      "Requirement already satisfied: tzdata>=2022.7 in d:\\courses\\global academy of technology\\kcet-college-pred\\kcet_env\\lib\\site-packages (from pandas>=1.2->seaborn) (2025.2)\n",
      "Requirement already satisfied: six>=1.5 in d:\\courses\\global academy of technology\\kcet-college-pred\\kcet_env\\lib\\site-packages (from python-dateutil>=2.7->matplotlib) (1.17.0)\n",
      "Dataset loaded successfully!\n",
      "Dataset shape: (2272, 8)\n"
     ]
    }
   ],
   "source": [
    "# Import necessary libraries\n",
    "import pandas as pd\n",
    "import numpy as np\n",
    "!pip install matplotlib seaborn\n",
    "import matplotlib.pyplot as plt\n",
    "import seaborn as sns\n",
    "import warnings\n",
    "warnings.filterwarnings('ignore')\n",
    "\n",
    "# Set display options\n",
    "pd.set_option('display.max_columns', None)\n",
    "pd.set_option('display.width', None)\n",
    "\n",
    "# Load the dataset\n",
    "df = pd.read_csv('comedk_cutoffs.csv')\n",
    "print(\"Dataset loaded successfully!\")\n",
    "print(f\"Dataset shape: {df.shape}\")\n"
   ]
  },
  {
   "cell_type": "code",
   "execution_count": 3,
   "id": "9d6c00a8",
   "metadata": {},
   "outputs": [
    {
     "name": "stdout",
     "output_type": "stream",
     "text": [
      "First 5 rows:\n",
      "  College_Code                                       College_Name Category  \\\n",
      "0         E001  Acharya Institute of Technology-Soladevanahall...       GM   \n",
      "1         E001  Acharya Institute of Technology-Soladevanahall...       GM   \n",
      "2         E001  Acharya Institute of Technology-Soladevanahall...      KKR   \n",
      "3         E001  Acharya Institute of Technology-Soladevanahall...      KKR   \n",
      "4         E003  A.C.S. College of Engineering-Kambipura Mysore...       GM   \n",
      "\n",
      "                                            Branch  Cutoff_Rank  Year  Round  \\\n",
      "0                     AE-Aeronautical\\rEngineering        30316  2024      1   \n",
      "1  AI-Artificial\\rIntelligence &\\rMachine Learning        18743  2024      1   \n",
      "2                     AE-Aeronautical\\rEngineering        69087  2024      1   \n",
      "3  AI-Artificial\\rIntelligence &\\rMachine Learning        39916  2024      1   \n",
      "4                     AE-Aeronautical\\rEngineering        62967  2024      1   \n",
      "\n",
      "  Exam_Type  \n",
      "0    COMEDK  \n",
      "1    COMEDK  \n",
      "2    COMEDK  \n",
      "3    COMEDK  \n",
      "4    COMEDK  \n",
      "\n",
      "==================================================\n",
      "\n",
      "Last 5 rows:\n",
      "     College_Code                                       College_Name Category  \\\n",
      "2267         E019  Bangalore Institute of Technology-V V Puram, B...       GM   \n",
      "2268         E040  Dayananda Sagar College of Engineering-Kumaras...       GM   \n",
      "2269         E086  Nitte Meenakshi Institute of Technology-Yelaha...       GM   \n",
      "2270         E126  Sir M.Visvesvaraya Institute of Technology-Yel...       GM   \n",
      "2271         E126  Sir M.Visvesvaraya Institute of Technology-Yel...       GM   \n",
      "\n",
      "                                                 Branch  Cutoff_Rank  Year  \\\n",
      "2267  VL-Electronics\\rEngineering\\r(VLSI Design &\\rT...        64581  2024   \n",
      "2268            RI-Robotics &\\rArtificial\\rIntelligence        11500  2024   \n",
      "2269  VL-Electronics\\rEngineering\\r(VLSI Design &\\rT...        74280  2024   \n",
      "2270            RI-Robotics &\\rArtificial\\rIntelligence        55861  2024   \n",
      "2271            UE-Electronics\\r& Computer\\rEngineering        98269  2024   \n",
      "\n",
      "      Round Exam_Type  \n",
      "2267      4    COMEDK  \n",
      "2268      4    COMEDK  \n",
      "2269      4    COMEDK  \n",
      "2270      4    COMEDK  \n",
      "2271      4    COMEDK  \n"
     ]
    }
   ],
   "source": [
    "# Display first few rows\n",
    "print(\"First 5 rows:\")\n",
    "print(df.head())\n",
    "print(\"\\n\" + \"=\"*50 + \"\\n\")\n",
    "\n",
    "# Display last few rows  \n",
    "print(\"Last 5 rows:\")\n",
    "print(df.tail())\n"
   ]
  },
  {
   "cell_type": "code",
   "execution_count": 4,
   "id": "7ae40a51",
   "metadata": {},
   "outputs": [
    {
     "name": "stdout",
     "output_type": "stream",
     "text": [
      "Dataset Info:\n",
      "<class 'pandas.core.frame.DataFrame'>\n",
      "RangeIndex: 2272 entries, 0 to 2271\n",
      "Data columns (total 8 columns):\n",
      " #   Column        Non-Null Count  Dtype \n",
      "---  ------        --------------  ----- \n",
      " 0   College_Code  2272 non-null   object\n",
      " 1   College_Name  2272 non-null   object\n",
      " 2   Category      2272 non-null   object\n",
      " 3   Branch        2272 non-null   object\n",
      " 4   Cutoff_Rank   2272 non-null   int64 \n",
      " 5   Year          2272 non-null   int64 \n",
      " 6   Round         2272 non-null   int64 \n",
      " 7   Exam_Type     2272 non-null   object\n",
      "dtypes: int64(3), object(5)\n",
      "memory usage: 142.1+ KB\n",
      "None\n",
      "\n",
      "==================================================\n",
      "\n",
      "Column names and data types:\n",
      "1. College_Code: object\n",
      "2. College_Name: object\n",
      "3. Category: object\n",
      "4. Branch: object\n",
      "5. Cutoff_Rank: int64\n",
      "6. Year: int64\n",
      "7. Round: int64\n",
      "8. Exam_Type: object\n",
      "\n",
      "==================================================\n",
      "\n",
      "Checking for encoding issues:\n"
     ]
    }
   ],
   "source": [
    "# Basic information about the dataset\n",
    "print(\"Dataset Info:\")\n",
    "print(df.info())\n",
    "print(\"\\n\" + \"=\"*50 + \"\\n\")\n",
    "\n",
    "# Column names and data types\n",
    "print(\"Column names and data types:\")\n",
    "for i, col in enumerate(df.columns):\n",
    "    print(f\"{i+1}. {col}: {df[col].dtype}\")\n",
    "    \n",
    "print(\"\\n\" + \"=\"*50 + \"\\n\")\n",
    "\n",
    "# Check for any encoding issues in text columns\n",
    "print(\"Checking for encoding issues:\")\n",
    "for col in df.select_dtypes(include=['object']).columns:\n",
    "    if df[col].astype(str).str.contains(r'\\\\r|\\\\n|\\\\t').any():\n",
    "        print(f\"⚠️  {col} contains special characters (\\\\r, \\\\n, \\\\t)\")\n",
    "        print(f\"   Sample values: {df[col].head(3).tolist()}\")\n"
   ]
  }
 ],
 "metadata": {
  "kernelspec": {
   "display_name": "kcet_env",
   "language": "python",
   "name": "python3"
  },
  "language_info": {
   "codemirror_mode": {
    "name": "ipython",
    "version": 3
   },
   "file_extension": ".py",
   "mimetype": "text/x-python",
   "name": "python",
   "nbconvert_exporter": "python",
   "pygments_lexer": "ipython3",
   "version": "3.12.1"
  }
 },
 "nbformat": 4,
 "nbformat_minor": 5
}
